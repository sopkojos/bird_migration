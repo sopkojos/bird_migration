{
 "cells": [
  {
   "cell_type": "markdown",
   "metadata": {},
   "source": [
    "# <center>  Climate Effects on the Migratory Patterns of the Arctic Loon </center>\n",
    "\n",
    "<center> By Joseph Sopko </center>"
   ]
  },
  {
   "cell_type": "markdown",
   "metadata": {},
   "source": [
    "<img src=\"https://www.larsfoto.se/img/images/large/520_black-throated-loon_storlom_gavia-arctica-arctica_kavsjon-smaland_20100404_2_1000n.jpg\" width=\"100%\">\n",
    "\n",
    "Image from: larsfoto.se"
   ]
  },
  {
   "cell_type": "markdown",
   "metadata": {},
   "source": [
    "---\n",
    "# Overview\n",
    "\n",
    "Community created data is openly avaible for bird sightings through different sources. With this type of data, we can roughly monitor the migration trends of any species. Loons are a group of bird that are common in the northern hemisphere. There are 5 species of loons and for the purpose of this project, I will be focusing on the artic loon (Gavia arctica). According to the U.S. Geological Survey, loons typically arrive to their summer breeding locations in April or May and migrate to their wintering locations in October or November. Seperately, data provided by the EPA show the average surface temperature in the US increasing at a rate of 0.14 degrees Farenheit per decade. This project will also attempt to correlate migration patterns to changes in the climate. \n",
    "\n",
    "The goal of this project is to use community generated geo-sightings of the arctic loon over time to model the migratory patterns of the bird. It will also use historical temperature data to correlate this migratory patterns to the weather. Because this data is openly available, it can then be applied to the multiple species of loons where a statistical analysis can be performed on the affect of climate change on migratory patterns.     "
   ]
  },
  {
   "cell_type": "markdown",
   "metadata": {},
   "source": [
    "---\n",
    "# Program Description\n",
    "This will be done in a Python 3 Jupyter Notebook. Expected packages to be included are numpy, matplotlib, pandas, seaborn, and scipy. There is no existing code specific to this project so it will all be done using the previously stated packages. \n",
    "\n",
    "The Global Biodiversity Information Facility along with the Cornell Lab of Ornithology provide user sighting data of any species of bird. The data from GBIF include longitude and latitude coordinates along with a monthly time stamp for each sighting. Using these coordinates, each sighting can be plotted as x-y coordinates and can be animated on a monthly basis for each instance. There are many options for climate data as well. Because there is not one centralized authority for weather data, specific locations may need to be selected. to use for the statistical analysis. \n"
   ]
  },
  {
   "cell_type": "markdown",
   "metadata": {},
   "source": [
    "---\n",
    "# Project Goals\n",
    "\n",
    "Short term: Be able to have animated plots of the GBIF sighting data for one species of bird\n",
    "Mid-term: Devellop correlations from migration patterns to climate paterns \n",
    "Long-term: Be able to easily apply code to multiple species. Setup statistical tools to compare trends between species\n",
    "\n",
    "\n",
    "# Timeline\n",
    "\n",
    "- 1/29/2021 - Create git repository \n",
    "- 2/12/2021 - Proposal Due\n",
    "- 2/19/2021 - Functioning geo-plots for one species\n",
    "- 2/24/2021 - Have climate patterns integrated into code\n",
    "- 2/26/2021 - Stub functions and Example code integration (With documentation)\n",
    "- 3/5/2021 - Complete statistical analysis for trends\n",
    "- 3/12/2021 - Unit Test Integration\n",
    "- 3/19/2021 - Integrate more species and test repeatability of code\n",
    "- 3/25/2021 - Coding Standards and Linting\n",
    "- 4/1/2021 - Finalize code, clean it up, add comments, finalize organization of repo \n",
    "- 4/9/2021 - Code Review \n",
    "- 4/12/2021 - Complete Presentation\n",
    "- 4/15/2021 - Tax Day\n",
    "- 4/16/2021 - Presentation Video Due\n",
    "- 4/20/2021 - Complete report\n",
    "- 4/23/2021 - Final Report and Code due.\n",
    "\n",
    "\n"
   ]
  },
  {
   "cell_type": "markdown",
   "metadata": {},
   "source": [
    "---\n",
    "# Anticipating Challenges  \n",
    "\n",
    "I exepect to get the latitude and longitude plots working quickly, however creating plots the iterate time periods will be the first challenge. I would like to create heatmaps with these data so I will need to research the included tools within Pandas and Seaborn. \n",
    "\n",
    "The next challenge I anticipate is how to integrate climate data. As mentioned in the program description, there is no central agency for climate data so I expect to pick a few weather stations that are centrally located to the migratory patterns of the bird. This will affect the longer term goals of the project as it will likely lead to a decrease in scale of the project. This could include selecting one country or smaller region that the patterns are affected in rather than on a global scale. By selecting the Arctic Loon, I have essentially already done this as they have a smaller geographic reach, however, if I plan to apply this code to multiple species, I would like to have code in place that draws weather data from a single source. \n",
    "\n",
    "The tools for the statistical analysis are present, however, I will need to decide which are best to draw the necessary conclusions for. \n"
   ]
  },
  {
   "cell_type": "code",
   "execution_count": null,
   "metadata": {},
   "outputs": [],
   "source": []
  }
 ],
 "metadata": {
  "kernelspec": {
   "display_name": "Python 3",
   "language": "python",
   "name": "python3"
  },
  "language_info": {
   "codemirror_mode": {
    "name": "ipython",
    "version": 3
   },
   "file_extension": ".py",
   "mimetype": "text/x-python",
   "name": "python",
   "nbconvert_exporter": "python",
   "pygments_lexer": "ipython3",
   "version": "3.8.3"
  }
 },
 "nbformat": 4,
 "nbformat_minor": 4
}
