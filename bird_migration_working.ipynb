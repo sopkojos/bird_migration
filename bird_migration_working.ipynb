{
 "cells": [
  {
   "cell_type": "code",
   "execution_count": 6,
   "metadata": {},
   "outputs": [],
   "source": [
    "import pandas as pd\n",
    "import matplotlib.pyplot as plt\n",
    "#pd.set_option('max_columns', None)\n",
    "#df = pd.read_csv('artic_loon_import.csv', sep='\\t',low_memory=False)\n"
   ]
  },
  {
   "cell_type": "code",
   "execution_count": 32,
   "metadata": {},
   "outputs": [],
   "source": [
    "def ebird_import(filename):\n",
    "    '''imports csv file. creates array for longitude and latitude of sightings. Generates an animated plot of the sightings over time '''\n",
    "    df = pd.read_csv(filename, sep='\\t',low_memory=False)\n",
    "    #df = pd.read_csv('artic_loon_import.csv', sep='\\t',low_memory=False)\n",
    "    #formats csv file\n",
    "    long = df['decimalLongitude']\n",
    "    lat = df['decimalLatitude']\n",
    "    #formats date columns\n",
    "    #plt.scatter(long,lat)\n",
    "    return [long,lat]"
   ]
  },
  {
   "cell_type": "code",
   "execution_count": 25,
   "metadata": {},
   "outputs": [],
   "source": [
    "long = ebird_import('arctic_loon_import.csv')[0]"
   ]
  },
  {
   "cell_type": "code",
   "execution_count": 28,
   "metadata": {},
   "outputs": [],
   "source": [
    "lat = ebird_import('arctic_loon_import.csv')[1]"
   ]
  },
  {
   "cell_type": "code",
   "execution_count": 34,
   "metadata": {},
   "outputs": [],
   "source": [
    "def average_latitude_position(yearmonth,latitude):\n",
    "    '''calculates the average latitude of the species over the course of 1950-1980 then calculates monthly change over the entire period'''\n",
    "    return [latitude_index]"
   ]
  },
  {
   "cell_type": "code",
   "execution_count": 28,
   "metadata": {},
   "outputs": [],
   "source": [
    "def weather_import(weather_filename):\n",
    "    '''imports csv file for NASAs GLOBAL LAND-OCEAN TEMPERATURE INDEX. function will also convert into the same date format as the latitude index'''\n",
    "    df_w = pd.read_csv('weather_filename')\n",
    "    return [temperature_index] "
   ]
  },
  {
   "cell_type": "code",
   "execution_count": null,
   "metadata": {},
   "outputs": [],
   "source": [
    "def correlation_func(long_index,weather_index):\n",
    "    '''peforms statistical analysis between the latitude and weather indexes including plots'''\n",
    "    return"
   ]
  }
 ],
 "metadata": {
  "kernelspec": {
   "display_name": "Python 3",
   "language": "python",
   "name": "python3"
  },
  "language_info": {
   "codemirror_mode": {
    "name": "ipython",
    "version": 3
   },
   "file_extension": ".py",
   "mimetype": "text/x-python",
   "name": "python",
   "nbconvert_exporter": "python",
   "pygments_lexer": "ipython3",
   "version": "3.8.3"
  }
 },
 "nbformat": 4,
 "nbformat_minor": 4
}
